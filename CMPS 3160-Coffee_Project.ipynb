{
  "nbformat": 4,
  "nbformat_minor": 0,
  "metadata": {
    "colab": {
      "provenance": [],
      "authorship_tag": "ABX9TyPp9AG9Qepx3gm+r0LkLAJ3",
      "include_colab_link": true
    },
    "kernelspec": {
      "name": "python3",
      "display_name": "Python 3"
    },
    "language_info": {
      "name": "python"
    }
  },
  "cells": [
    {
      "cell_type": "markdown",
      "metadata": {
        "id": "view-in-github",
        "colab_type": "text"
      },
      "source": [
        "<a href=\"https://colab.research.google.com/github/mbaguesgalvez/marinabagues.github.io/blob/main/CMPS%203160-Coffee_Project.ipynb\" target=\"_parent\"><img src=\"https://colab.research.google.com/assets/colab-badge.svg\" alt=\"Open In Colab\"/></a>"
      ]
    },
    {
      "cell_type": "markdown",
      "source": [
        "# Coffee Quality and Sensory Attributes\n",
        "By Marina Bagues Galvez\n",
        "\n",
        "CMPS 3160\n",
        "\n",
        "Project Website:\n",
        "\n",
        "Github Repository:\n",
        "\n",
        "# Project Overview\n",
        "This project explores how the sensory attributes of coffee (like aroma, acidity, body, or flavor) influence its quality score.\n",
        "\n",
        "By using data from the Coffee Quality Institute (CQI), we can see if certain characteristics (such as acidity or sweetness) are better indicators of a high-quality coffee. This project will allow comparision between two types of coffee: **Arabica** and **Robusta**, to check if they share similar quality patterns.\n",
        "\n",
        "The final goal is to understand what makes a coffee “good” and see whether different species are valued differently based on their sensory profile.\n",
        "\n",
        "\n",
        "# Background & Motivation for this Project\n",
        "Coffee is one of the most popular drinks in the world, and its quality can change a lot depending on the type of bean, where it’s grown, and how it’s processed.\n",
        "The Coffee Quality Institute (CQI) collects data from trained coffee tasters who rate each sample based on different sensory attributes like aroma, acidity, and body. All these scores are then combined into one final number called Total Cup Points, which represents the overall quality of the coffee.\n",
        "\n",
        "Since I drink coffee almost every day, I thought it would be fun to actually study it and see what makes one cup better than another. It’s something that feels part of my daily routine, but I had never really thought about what defines a “good” coffee from a professional perspective.\n",
        "\n",
        "\n",
        "# Research Questions\n",
        "\n",
        "\n",
        "\n",
        "1.   For Arabica coffee, which sensory attributes (like aroma, flavor, acidity, or body) have the strongest relationship with the final quality score, known as Total Cup Points?\n",
        "2.   When comparing Arabica and Robusta coffees, do the same sensory factors explain quality in both types, or are there clear differences in which attributes matter the most?\n",
        "\n"
      ],
      "metadata": {
        "id": "hbas5zmgHqiR"
      }
    },
    {
      "cell_type": "markdown",
      "source": [
        "# MILESTONE 1: Initial ETL (Extract, Tidy, Load)\n",
        "\n",
        "# Data Sources\n",
        "For this project, I used two public datasets that come from the Coffee Quality Institute (CQI).\n",
        "\n",
        "They were collected from the official CQI database and later cleaned by users on GitHub and Kaggle.\n",
        "Both datasets include information from trained coffee tasters who evalaute the sensory quality of different coffee samples. This, helps explore how the tasting attributes are connected to the overall quality of the coffee, and see if these patterns change between Arabica and Robusta beans.\n",
        "\n",
        "\n",
        "*   **Arabica dataset:** This file includes 1,312 Arabica coffee samples with variables such as country of origin, processing method, and sensory scores (aroma, flavor, aftertaste, acidity, body, balance, etc.), plus the final Total Cup Points that represent the coffee’s overall quality. It comes from the public GitHub repository created by jldbc\n",
        ", which is based on official CQI data.\n",
        "\"C:\\Users\\marin\\OneDrive\\Documentos\\TULANE 2025-2026\\FALL SEMESTER\\CMPS 3160-01 Intro to Data Science\\final pjt\\arabica_data_cleaned.csv\" (https://github.com/jldbc/coffee-quality-database/blob/master/data/arabica_data_cleaned.csv)\n",
        "\n",
        "*  **Robusta dataset**: This dataset comes from the same CQI source but focuses on Robusta coffee beans. It has the same structure as the Arabica file, which makes it easy to compare the two species directly in the analysis.\n",
        "https://www.kaggle.com/datasets/volpatto/coffee-quality-database-from-cqi\n",
        "\n",
        "# Imports and Loading the Data\n",
        "\n"
      ],
      "metadata": {
        "id": "lDdf0jKkV67X"
      }
    },
    {
      "cell_type": "code",
      "source": [
        "!git clone https://github.com/mbaguesgalvez/marinabagues.github.io\n",
        "%cd CMPS 3160-Coffee_Project.ipynb"
      ],
      "metadata": {
        "id": "jdFL4TPQalFY",
        "outputId": "d819151e-7a96-464d-86e8-923331917d0d",
        "colab": {
          "base_uri": "https://localhost:8080/"
        }
      },
      "execution_count": 1,
      "outputs": [
        {
          "output_type": "stream",
          "name": "stdout",
          "text": [
            "Cloning into 'marinabagues.github.io'...\n",
            "remote: Enumerating objects: 18, done.\u001b[K\n",
            "remote: Counting objects: 100% (18/18), done.\u001b[K\n",
            "remote: Compressing objects: 100% (16/16), done.\u001b[K\n",
            "remote: Total 18 (delta 6), reused 0 (delta 0), pack-reused 0 (from 0)\u001b[K\n",
            "Receiving objects: 100% (18/18), 133.24 KiB | 12.11 MiB/s, done.\n",
            "Resolving deltas: 100% (6/6), done.\n",
            "[Errno 2] No such file or directory: 'CMPS 3160-Coffee_Project.ipynb'\n",
            "/content\n"
          ]
        }
      ]
    },
    {
      "cell_type": "code",
      "source": [
        "#Import libraries\n",
        "import pandas as pd\n",
        "import numpy as np\n",
        "import matplotlib.pyplot as plt\n",
        "import seaborn as sns\n",
        "\n",
        "#Load datasets\n",
        "df_arabica = pd.read_csv(\"arabica_data_cleaned.csv\")\n",
        "df_robusta = pd.read_csv(\"robusta_data_cleaned.csv\")"
      ],
      "metadata": {
        "id": "Pr_TUSkKk9xA"
      },
      "execution_count": null,
      "outputs": []
    }
  ]
}